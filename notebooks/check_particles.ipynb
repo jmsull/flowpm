{
 "cells": [
  {
   "cell_type": "code",
   "execution_count": 1,
   "metadata": {},
   "outputs": [
    {
     "name": "stderr",
     "output_type": "stream",
     "text": [
      "/Users/jsull/anaconda3/envs/flowpm_p/lib/python3.7/site-packages/tensorflow/python/framework/dtypes.py:516: FutureWarning: Passing (type, 1) or '1type' as a synonym of type is deprecated; in a future version of numpy, it will be understood as (type, (1,)) / '(1,)type'.\n",
      "  _np_qint8 = np.dtype([(\"qint8\", np.int8, 1)])\n",
      "/Users/jsull/anaconda3/envs/flowpm_p/lib/python3.7/site-packages/tensorflow/python/framework/dtypes.py:517: FutureWarning: Passing (type, 1) or '1type' as a synonym of type is deprecated; in a future version of numpy, it will be understood as (type, (1,)) / '(1,)type'.\n",
      "  _np_quint8 = np.dtype([(\"quint8\", np.uint8, 1)])\n",
      "/Users/jsull/anaconda3/envs/flowpm_p/lib/python3.7/site-packages/tensorflow/python/framework/dtypes.py:518: FutureWarning: Passing (type, 1) or '1type' as a synonym of type is deprecated; in a future version of numpy, it will be understood as (type, (1,)) / '(1,)type'.\n",
      "  _np_qint16 = np.dtype([(\"qint16\", np.int16, 1)])\n",
      "/Users/jsull/anaconda3/envs/flowpm_p/lib/python3.7/site-packages/tensorflow/python/framework/dtypes.py:519: FutureWarning: Passing (type, 1) or '1type' as a synonym of type is deprecated; in a future version of numpy, it will be understood as (type, (1,)) / '(1,)type'.\n",
      "  _np_quint16 = np.dtype([(\"quint16\", np.uint16, 1)])\n",
      "/Users/jsull/anaconda3/envs/flowpm_p/lib/python3.7/site-packages/tensorflow/python/framework/dtypes.py:520: FutureWarning: Passing (type, 1) or '1type' as a synonym of type is deprecated; in a future version of numpy, it will be understood as (type, (1,)) / '(1,)type'.\n",
      "  _np_qint32 = np.dtype([(\"qint32\", np.int32, 1)])\n",
      "/Users/jsull/anaconda3/envs/flowpm_p/lib/python3.7/site-packages/tensorflow/python/framework/dtypes.py:525: FutureWarning: Passing (type, 1) or '1type' as a synonym of type is deprecated; in a future version of numpy, it will be understood as (type, (1,)) / '(1,)type'.\n",
      "  np_resource = np.dtype([(\"resource\", np.ubyte, 1)])\n",
      "/Users/jsull/anaconda3/envs/flowpm_p/lib/python3.7/site-packages/tensorboard/compat/tensorflow_stub/dtypes.py:541: FutureWarning: Passing (type, 1) or '1type' as a synonym of type is deprecated; in a future version of numpy, it will be understood as (type, (1,)) / '(1,)type'.\n",
      "  _np_qint8 = np.dtype([(\"qint8\", np.int8, 1)])\n",
      "/Users/jsull/anaconda3/envs/flowpm_p/lib/python3.7/site-packages/tensorboard/compat/tensorflow_stub/dtypes.py:542: FutureWarning: Passing (type, 1) or '1type' as a synonym of type is deprecated; in a future version of numpy, it will be understood as (type, (1,)) / '(1,)type'.\n",
      "  _np_quint8 = np.dtype([(\"quint8\", np.uint8, 1)])\n",
      "/Users/jsull/anaconda3/envs/flowpm_p/lib/python3.7/site-packages/tensorboard/compat/tensorflow_stub/dtypes.py:543: FutureWarning: Passing (type, 1) or '1type' as a synonym of type is deprecated; in a future version of numpy, it will be understood as (type, (1,)) / '(1,)type'.\n",
      "  _np_qint16 = np.dtype([(\"qint16\", np.int16, 1)])\n",
      "/Users/jsull/anaconda3/envs/flowpm_p/lib/python3.7/site-packages/tensorboard/compat/tensorflow_stub/dtypes.py:544: FutureWarning: Passing (type, 1) or '1type' as a synonym of type is deprecated; in a future version of numpy, it will be understood as (type, (1,)) / '(1,)type'.\n",
      "  _np_quint16 = np.dtype([(\"quint16\", np.uint16, 1)])\n",
      "/Users/jsull/anaconda3/envs/flowpm_p/lib/python3.7/site-packages/tensorboard/compat/tensorflow_stub/dtypes.py:545: FutureWarning: Passing (type, 1) or '1type' as a synonym of type is deprecated; in a future version of numpy, it will be understood as (type, (1,)) / '(1,)type'.\n",
      "  _np_qint32 = np.dtype([(\"qint32\", np.int32, 1)])\n",
      "/Users/jsull/anaconda3/envs/flowpm_p/lib/python3.7/site-packages/tensorboard/compat/tensorflow_stub/dtypes.py:550: FutureWarning: Passing (type, 1) or '1type' as a synonym of type is deprecated; in a future version of numpy, it will be understood as (type, (1,)) / '(1,)type'.\n",
      "  np_resource = np.dtype([(\"resource\", np.ubyte, 1)])\n"
     ]
    }
   ],
   "source": [
    "import flowpm"
   ]
  },
  {
   "cell_type": "markdown",
   "metadata": {},
   "source": [
    "the mininal working example, let's check it still works with and without short range"
   ]
  },
  {
   "cell_type": "code",
   "execution_count": 2,
   "metadata": {},
   "outputs": [
    {
     "name": "stdout",
     "output_type": "stream",
     "text": [
      "Populating the interactive namespace from numpy and matplotlib\n"
     ]
    }
   ],
   "source": [
    "%pylab inline\n",
    "from flowpm import linear_field, lpt_init, nbody, cic_paint\n",
    "import tensorflow as tf\n",
    "from scipy.interpolate import InterpolatedUnivariateSpline as iuspline\n",
    "\n",
    "klin = np.loadtxt('../flowpm/data/Planck15_a1p00.txt').T[0]\n",
    "plin = np.loadtxt('../flowpm/data/Planck15_a1p00.txt').T[1]\n",
    "\n",
    "ipklin = iuspline(klin, plin)"
   ]
  },
  {
   "cell_type": "code",
   "execution_count": 3,
   "metadata": {},
   "outputs": [
    {
     "name": "stdout",
     "output_type": "stream",
     "text": [
      "WARNING:tensorflow:From /Users/jsull/Documents/berkeley/flowPM/fork/flowpm/flowpm/utils.py:158: The name tf.random_normal is deprecated. Please use tf.random.normal instead.\n",
      "\n",
      "WARNING:tensorflow:From /Users/jsull/Documents/berkeley/flowPM/fork/flowpm/flowpm/tfpm.py:453: The name tf.Session is deprecated. Please use tf.compat.v1.Session instead.\n",
      "\n",
      "dbug max LR force is 0.12719572\n",
      "min x=15.26157283782959, max x=-0.18888592720031738, step a=0.1\n",
      "dbug max LR force is 0.26592335\n",
      "min x=15.473228454589844, max x=-0.3603716492652893, step a=0.2\n",
      "dbug max LR force is 0.43192926\n",
      "min x=15.675090789794922, max x=-0.49957799911499023, step a=0.30000000000000004\n",
      "dbug max LR force is 0.5792248\n",
      "min x=15.879549980163574, max x=-0.6212289333343506, step a=0.4\n",
      "dbug max LR force is 0.63769996\n",
      "min x=16.079254150390625, max x=-0.7297645807266235, step a=0.5\n",
      "dbug max LR force is 0.7419613\n",
      "min x=16.26658058166504, max x=-0.8266890048980713, step a=0.6\n",
      "dbug max LR force is 0.8156342\n",
      "min x=16.433490753173828, max x=-0.9128966331481934, step a=0.7000000000000001\n",
      "dbug max LR force is 0.94337595\n",
      "min x=16.578140258789062, max x=-0.9891715049743652, step a=0.8\n",
      "dbug max LR force is 0.9421703\n",
      "min x=16.701627731323242, max x=-1.0563503503799438, step a=0.9\n",
      "dbug max LR force is 1.058857\n"
     ]
    }
   ],
   "source": [
    "stages = np.linspace(0.1, 1.0, 10, endpoint=True)\n",
    "initial_conditions = flowpm.linear_field(16,#32,          # size of the cube\n",
    "                                         100,         # Physical size of the cube\n",
    "                                         ipklin,      # Initial powerspectrum\n",
    "                                         batch_size=1,seed=1)\n",
    "\n",
    "# Sample particles\n",
    "state = flowpm.lpt_init(initial_conditions, a0=0.1)   \n",
    "\n",
    "# Evolve particles down to z=0\n",
    "final_state = flowpm.nbody(state, stages, 16)         \n",
    "\n",
    "# Retrieve final density field\n",
    "final_field = flowpm.cic_paint(tf.zeros_like(initial_conditions), final_state[0])\n",
    "\n",
    "with tf.Session() as sess:\n",
    "    state_l = sess.run(final_state)\n",
    "    sim_l = sess.run(final_field)\n"
   ]
  },
  {
   "cell_type": "code",
   "execution_count": 4,
   "metadata": {
    "scrolled": true
   },
   "outputs": [
    {
     "name": "stdout",
     "output_type": "stream",
     "text": [
      "dbug max LR force is 0.12719572\n",
      "Cmcells shape (4096, 3)\n",
      "bin size 1.0\n",
      "num_bins_1d 16\n",
      "xeval shape (1, 4096, 3)\n",
      "eta [0.1        0.02031695 0.1        ... 0.02058046 0.02058046 0.02058046]\n",
      "zeta [-0.1         0.00010639 -0.1        ...  0.00010639  0.00010639\n",
      "  0.00010639]\n",
      "global min eta 0.00037412270631429265\n",
      "global max eta 0.19291955449369233\n",
      "global min zeta -0.1\n",
      "global max zeta 0.0003504602471366525\n",
      "bin distr summary (for rough idea of load balance): min=0, max=7, mean=1.00, median=1.0, total/expected_total=1.0\n",
      "dbug max SR force is 5.6139503\n",
      "min x=15.26157283782959, max x=-0.18888592720031738, step a=0.1\n",
      "dbug max LR force is 0.25332573\n",
      "Cmcells shape (4096, 3)\n",
      "bin size 1.0\n",
      "num_bins_1d 16\n",
      "xeval shape (1, 4096, 3)\n",
      "eta [0.1        1.83612661 1.83612661 ... 1.90758142 1.83612661 0.1       ]\n",
      "zeta [-0.1         0.06124598  0.06124598 ...  0.02688575  0.06124598\n",
      " -0.1       ]\n",
      "global min eta 0.0015145167640966308\n",
      "global max eta 5.285358631746335\n",
      "global min zeta -0.1\n",
      "global max zeta 0.21277270317077637\n",
      "bin distr summary (for rough idea of load balance): min=0, max=6, mean=1.00, median=1.0, total/expected_total=1.0\n",
      "dbug max SR force is 35.32278\n",
      "min x=19.078432083129883, max x=-4.339026927947998, step a=0.2\n",
      "dbug max LR force is 0.35990992\n",
      "Cmcells shape (4096, 3)\n",
      "bin size 1.0\n",
      "num_bins_1d 16\n",
      "xeval shape (1, 4096, 3)\n",
      "eta [0.00561552 0.00561552 0.00561552 ... 0.00561552 0.00561552 0.00783733]\n",
      "zeta [0.05300754 0.05300754 0.05300754 ... 0.05300754 0.05300754 0.05300754]\n",
      "global min eta 0.0017652073997385508\n",
      "global max eta 8.406967219081642\n",
      "global min zeta -0.1\n",
      "global max zeta 3.457429885864258\n",
      "bin distr summary (for rough idea of load balance): min=0, max=6, mean=1.00, median=1.0, total/expected_total=1.0\n",
      "dbug max SR force is 23.078508\n",
      "min x=21.463626861572266, max x=-8.171623229980469, step a=0.30000000000000004\n",
      "dbug max LR force is 0.44453245\n",
      "Cmcells shape (4096, 3)\n",
      "bin size 1.0\n",
      "num_bins_1d 16\n",
      "xeval shape (1, 4096, 3)\n",
      "eta [0.01717846 0.02343696 0.01717846 ... 0.20667919 0.01717846 0.01717846]\n",
      "zeta [0.04293391 0.04293391 0.04293391 ... 0.05313237 0.04293391 0.04293391]\n",
      "global min eta 0.0009687095616255152\n",
      "global max eta 15.368943869378173\n",
      "global min zeta -0.1\n",
      "global max zeta 4.135398101806641\n",
      "bin distr summary (for rough idea of load balance): min=0, max=7, mean=1.00, median=1.0, total/expected_total=1.0\n",
      "dbug max SR force is 25.212868\n",
      "min x=33.63185501098633, max x=-13.849015235900879, step a=0.4\n",
      "dbug max LR force is 0.54244745\n",
      "Cmcells shape (4096, 3)\n",
      "bin size 1.0\n",
      "num_bins_1d 16\n",
      "xeval shape (1, 4096, 3)\n",
      "eta [0.1        0.01271229 0.01271229 ... 0.1        0.01271229 0.65754219]\n",
      "zeta [-0.1        0.0371944  0.0371944 ... -0.1        0.0371944  0.0371944]\n",
      "global min eta 0.0009752978572627158\n",
      "global max eta 27.122996936017703\n",
      "global min zeta -0.1\n",
      "global max zeta 5.10719108581543\n",
      "bin distr summary (for rough idea of load balance): min=0, max=8, mean=1.00, median=1.0, total/expected_total=1.0\n",
      "dbug max SR force is 25.758036\n",
      "min x=41.58347702026367, max x=-20.88506317138672, step a=0.5\n",
      "dbug max LR force is 0.5567472\n",
      "Cmcells shape (4096, 3)\n",
      "bin size 1.0\n",
      "num_bins_1d 16\n",
      "xeval shape (1, 4096, 3)\n",
      "eta [0.1        0.00937419 0.00937419 ... 0.1        0.00937419 0.53181192]\n",
      "zeta [-0.1         0.0333162   0.0333162  ... -0.1         0.0333162\n",
      "  0.06887246]\n",
      "global min eta 0.0008394650979266367\n",
      "global max eta 27.86133678166905\n",
      "global min zeta -0.1\n",
      "global max zeta 4.948218536376953\n",
      "bin distr summary (for rough idea of load balance): min=0, max=11, mean=1.00, median=1.0, total/expected_total=1.0\n",
      "dbug max SR force is 20.755154\n",
      "min x=47.05620193481445, max x=-25.769207000732422, step a=0.6\n",
      "dbug max LR force is 0.6169389\n",
      "Cmcells shape (4096, 3)\n",
      "bin size 1.0\n",
      "num_bins_1d 16\n",
      "xeval shape (1, 4096, 3)\n",
      "eta [0.1        0.00674458 0.00850144 ... 0.00674458 0.00674458 0.00674458]\n",
      "zeta [-0.1         0.03045094  0.03045094 ...  0.03045094  0.03045094\n",
      "  0.03045094]\n",
      "global min eta 0.0007968400779727254\n",
      "global max eta 36.1258419389729\n",
      "global min zeta -0.1\n",
      "global max zeta 5.630902481079102\n",
      "bin distr summary (for rough idea of load balance): min=0, max=10, mean=1.00, median=1.0, total/expected_total=1.0\n",
      "dbug max SR force is 34.149464\n",
      "min x=50.985870361328125, max x=-29.284879684448242, step a=0.7000000000000001\n",
      "dbug max LR force is 0.7024426\n",
      "Cmcells shape (4096, 3)\n",
      "bin size 1.0\n",
      "num_bins_1d 16\n",
      "xeval shape (1, 4096, 3)\n",
      "eta [0.1        0.00765667 0.0093322  ... 0.1        0.06912985 0.00765667]\n",
      "zeta [-0.1         0.02756339  0.02756339 ... -0.1         0.02756339\n",
      "  0.02756339]\n",
      "global min eta 0.0011897890834807274\n",
      "global max eta 29.96217965428321\n",
      "global min zeta -0.1\n",
      "global max zeta 21.086523437500002\n",
      "bin distr summary (for rough idea of load balance): min=0, max=10, mean=1.00, median=1.0, total/expected_total=1.0\n",
      "dbug max SR force is 24.959568\n",
      "min x=53.889442443847656, max x=-31.856231689453125, step a=0.8\n",
      "dbug max LR force is 0.73306453\n",
      "Cmcells shape (4096, 3)\n",
      "bin size 1.0\n",
      "num_bins_1d 16\n",
      "xeval shape (1, 4096, 3)\n",
      "eta [0.1        0.00695163 0.00821571 ... 0.1        0.00695163 0.00695163]\n",
      "zeta [-0.1         0.02766249  0.02766249 ... -0.1         0.02766249\n",
      "  0.02766249]\n",
      "global min eta 0.001579283024382727\n",
      "global max eta 42.15688450971397\n",
      "global min zeta -0.1\n",
      "global max zeta 21.015975952148438\n",
      "bin distr summary (for rough idea of load balance): min=0, max=11, mean=1.00, median=1.0, total/expected_total=1.0\n",
      "dbug max SR force is 27.909508\n",
      "min x=56.06344985961914, max x=-33.76417541503906, step a=0.9\n",
      "dbug max LR force is 0.72331953\n",
      "Cmcells shape (4096, 3)\n",
      "bin size 1.0\n",
      "num_bins_1d 16\n",
      "xeval shape (1, 4096, 3)\n",
      "eta [0.1        0.00590083 0.00679922 ... 0.00590083 0.00590083 0.00590083]\n",
      "zeta [-0.1         0.03253874  0.03253874 ...  0.03253874  0.03253874\n",
      "  0.03253874]\n",
      "global min eta 0.0010736855779964294\n",
      "global max eta 45.41437562058888\n",
      "global min zeta -0.1\n",
      "global max zeta 16.23689880371094\n",
      "bin distr summary (for rough idea of load balance): min=0, max=11, mean=1.00, median=1.0, total/expected_total=1.0\n",
      "dbug max SR force is 30.296793\n"
     ]
    }
   ],
   "source": [
    "#Try the short range\n",
    "# Evolve particles down to z=0\n",
    "final_state_s = flowpm.nbody(state, stages, 16,short_range=True,cm_scale=1,eps_s=.1)         \n",
    "\n",
    "# Retrieve final density field\n",
    "final_field_s = flowpm.cic_paint(tf.zeros_like(initial_conditions), final_state_s[0])\n",
    "\n",
    "with tf.Session() as sess:\n",
    "    state_s= sess.run(final_state_s)\n",
    "    sim_s= sess.run(final_field_s)\n"
   ]
  },
  {
   "cell_type": "code",
   "execution_count": 5,
   "metadata": {},
   "outputs": [
    {
     "data": {
      "image/png": "[encoded data removed]",
      "text/plain": [
       "<Figure size 432x288 with 1 Axes>"
      ]
     },
     "metadata": {
      "needs_background": "light"
     },
     "output_type": "display_data"
    },
    {
     "data": {
      "image/png": "[encoded data removed]",
      "text/plain": [
       "<Figure size 432x288 with 1 Axes>"
      ]
     },
     "metadata": {
      "needs_background": "light"
     },
     "output_type": "display_data"
    },
    {
     "name": "stdout",
     "output_type": "stream",
     "text": [
      "15.16433 0.00046288967\n"
     ]
    },
    {
     "data": {
      "image/png": "[encoded data removed]",
      "text/plain": [
       "<Figure size 432x288 with 1 Axes>"
      ]
     },
     "metadata": {
      "needs_background": "light"
     },
     "output_type": "display_data"
    }
   ],
   "source": [
    "\n",
    "#visually comparing one-step fields\n",
    "imshow(sim_s[0].sum(axis=0))\n",
    "plt.show()\n",
    "\n",
    "imshow(sim_l[0].sum(axis=0))\n",
    "plt.show()\n",
    "\n",
    "#L2 MSE\n",
    "l2mse = np.sqrt(((sim_l[0]-sim_s[0])**2))\n",
    "imshow(l2mse.sum(axis=0))\n",
    "print(l2mse.max(),l2mse.min())\n",
    "#pretty awful, looks like it just subtracting uniform background\n",
    "#no it is slightly better than that, it looks more like  subtracting a diffused version of the long-range\n",
    "#the diffusion is occuring because of the 2-body interaction time from high accelerations due to nearby particles\n",
    "#because timestep is too short...\n"
   ]
  },
  {
   "cell_type": "code",
   "execution_count": 6,
   "metadata": {},
   "outputs": [
    {
     "name": "stdout",
     "output_type": "stream",
     "text": [
      "CPU times: user 67 µs, sys: 0 ns, total: 67 µs\n",
      "Wall time: 70.8 µs\n"
     ]
    }
   ],
   "source": [
    "%%time\n",
    "LL = []\n",
    "for i in range(8**3):\n",
    "    LL.append(5)\n",
    "    "
   ]
  },
  {
   "cell_type": "code",
   "execution_count": 7,
   "metadata": {},
   "outputs": [],
   "source": [
    "def speed_check():\n",
    "    LL = []\n",
    "    for i in range(8**3):\n",
    "        LL.append(tf.constant([5]))\n",
    "        \n",
    "    return LL"
   ]
  },
  {
   "cell_type": "code",
   "execution_count": 8,
   "metadata": {},
   "outputs": [
    {
     "name": "stdout",
     "output_type": "stream",
     "text": [
      "CPU times: user 1.11 s, sys: 27 ms, total: 1.13 s\n",
      "Wall time: 1.14 s\n"
     ]
    }
   ],
   "source": [
    "%%time\n",
    "with tf.Session() as sess:\n",
    "    ll = sess.run(speed_check())\n",
    "    "
   ]
  },
  {
   "cell_type": "code",
   "execution_count": null,
   "metadata": {},
   "outputs": [],
   "source": [
    "#calling tensorflow in the loops is a big problem..."
   ]
  }
 ],
 "metadata": {
  "kernelspec": {
   "display_name": "Python 3",
   "language": "python",
   "name": "python3"
  },
  "language_info": {
   "codemirror_mode": {
    "name": "ipython",
    "version": 3
   },
   "file_extension": ".py",
   "mimetype": "text/x-python",
   "name": "python",
   "nbconvert_exporter": "python",
   "pygments_lexer": "ipython3",
   "version": "3.7.6"
  }
 },
 "nbformat": 4,
 "nbformat_minor": 4
}

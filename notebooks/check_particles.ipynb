{
 "cells": [
  {
   "cell_type": "code",
   "execution_count": 1,
   "metadata": {},
   "outputs": [],
   "source": [
    "import flowpm"
   ]
  },
  {
   "cell_type": "markdown",
   "metadata": {},
   "source": [
    "the mininal working example, let's check it still works with and without short range"
   ]
  },
  {
   "cell_type": "code",
   "execution_count": 2,
   "metadata": {},
   "outputs": [
    {
     "name": "stdout",
     "output_type": "stream",
     "text": [
      "Populating the interactive namespace from numpy and matplotlib\n"
     ]
    }
   ],
   "source": [
    "%pylab inline\n",
    "from flowpm import linear_field, lpt_init, nbody, cic_paint\n",
    "import tensorflow as tf\n",
    "from scipy.interpolate import InterpolatedUnivariateSpline as iuspline\n",
    "\n",
    "klin = np.loadtxt('../flowpm/data/Planck15_a1p00.txt').T[0]\n",
    "plin = np.loadtxt('../flowpm/data/Planck15_a1p00.txt').T[1]\n",
    "\n",
    "ipklin = iuspline(klin, plin)"
   ]
  },
  {
   "cell_type": "code",
   "execution_count": 30,
   "metadata": {},
   "outputs": [
    {
     "name": "stdout",
     "output_type": "stream",
     "text": [
      "dbug max LR force is 8.025555\n",
      "dbug max LR force is 8.025531\n",
      "dbug max LR force is 8.025648\n",
      "dbug max LR force is 8.025531\n",
      "dbug max LR force is 8.025531\n",
      "dbug max LR force is 8.025531\n",
      "dbug max LR force is 8.025531\n",
      "dbug max LR force is 8.025531\n",
      "dbug max LR force is 8.025531\n",
      "dbug max LR force is 8.025531\n"
     ]
    }
   ],
   "source": [
    "stages = np.linspace(0.1, 1.0, 10, endpoint=True)\n",
    "initial_conditions = flowpm.linear_field(16,#32,          # size of the cube\n",
    "                                         100,         # Physical size of the cube\n",
    "                                         ipklin,      # Initial powerspectrum\n",
    "                                         batch_size=1,seed=1)\n",
    "initial_conditions32 = flowpm.linear_field(32,          # size of the cube\n",
    "                                         100,         # Physical size of the cube\n",
    "                                         ipklin,      # Initial powerspectrum\n",
    "                                         batch_size=1,seed=1)\n",
    "\n",
    "# Sample particles\n",
    "state = flowpm.lpt_init(initial_conditions, a0=0.1)   \n",
    "state32 = flowpm.lpt_init(initial_conditions32, a0=0.1)   \n",
    "\n",
    "\n",
    "# # # Evolve particles down to z=0\n",
    "nc=32\n",
    "# final_state = flowpm.nbody(state, stages, 16 ,short_range=False,split=0)    \n",
    "# final_state2 = flowpm.nbody(state, stages, 16, short_range=False,pm_nc_factor=2,split=0)         \n",
    "# final_state16 = flowpm.nbody(state, stages, 16, short_range=False,pm_nc_factor=16,split=0) \n",
    "# nc=32\n",
    "# final_state = flowpm.nbody(state32, stages, 32 ,short_range=False)    \n",
    "# final_state2 = flowpm.nbody(state32, stages, 32, short_range=False,pm_nc_factor=2)         \n",
    "# final_state4 = flowpm.nbody(state32, stages, 32, short_range=False,pm_nc_factor=4)         \n",
    "\n",
    "# final_state32 = flowpm.nbody(state32, stages, 32,short_range=False)         \n",
    "\n",
    "\n",
    "# # # Retrieve final density field\n",
    "# final_field = flowpm.cic_paint(tf.zeros_like(initial_conditions), final_state[0])\n",
    "# final_field2 = flowpm.cic_paint(tf.zeros_like(initial_conditions), final_state2[0])\n",
    "# final_field16 = flowpm.cic_paint(tf.zeros_like(initial_conditions), final_state16[0])\n",
    "# final_field32 = flowpm.cic_paint(tf.zeros_like(initial_conditions32), final_state32[0])\n",
    "\n",
    "with tf.Session() as sess:\n",
    "#     state_l = sess.run(final_state)\n",
    "#     sim_l = sess.run(final_field)\n",
    "#     state_l2 = sess.run(final_state2)\n",
    "#     sim_l2 = sess.run(final_field2)\n",
    "#     state_l4 = sess.run(final_state4)\n",
    "#     sim_l4 = sess.run(final_field4)\n",
    "#     state_l16 = sess.run(final_state16)\n",
    "#     sim_l16 = sess.run(final_field16)\n",
    "#     state_l32 = sess.run(final_state32)\n",
    "#     sim_l32 = sess.run(final_field32)\n"
   ]
  },
  {
   "cell_type": "code",
   "execution_count": 42,
   "metadata": {},
   "outputs": [
    {
     "data": {
      "text/plain": [
       "<matplotlib.image.AxesImage at 0x1c5f7aa450>"
      ]
     },
     "execution_count": 42,
     "metadata": {},
     "output_type": "execute_result"
    },
    {
     "data": {
      "image/png": "[encoded data removed]",
      "text/plain": [
       "<Figure size 432x288 with 1 Axes>"
      ]
     },
     "metadata": {
      "needs_background": "light"
     },
     "output_type": "display_data"
    }
   ],
   "source": [
    "imshow(sim_l16[0].sum(axis=0))"
   ]
  },
  {
   "cell_type": "code",
   "execution_count": 38,
   "metadata": {},
   "outputs": [
    {
     "data": {
      "text/plain": [
       "<matplotlib.image.AxesImage at 0x1c5e20c2d0>"
      ]
     },
     "execution_count": 38,
     "metadata": {},
     "output_type": "execute_result"
    },
    {
     "data": {
      "image/png": "[encoded data removed]",
      "text/plain": [
       "<Figure size 432x288 with 1 Axes>"
      ]
     },
     "metadata": {
      "needs_background": "light"
     },
     "output_type": "display_data"
    }
   ],
   "source": [
    "imshow(sim_l4[0].sum(axis=0))"
   ]
  },
  {
   "cell_type": "code",
   "execution_count": 7,
   "metadata": {},
   "outputs": [
    {
     "data": {
      "image/png": "[encoded data removed]",
      "text/plain": [
       "<Figure size 432x288 with 1 Axes>"
      ]
     },
     "metadata": {
      "needs_background": "light"
     },
     "output_type": "display_data"
    }
   ],
   "source": [
    "#visually comparing one-step fields\n",
    "imshow(sim_s[0].sum(axis=0))\n",
    "plt.show()\n",
    "\n",
    "split = 1\n"
   ]
  },
  {
   "cell_type": "code",
   "execution_count": 33,
   "metadata": {},
   "outputs": [
    {
     "data": {
      "image/png": "[encoded data removed]",
      "text/plain": [
       "<Figure size 432x288 with 1 Axes>"
      ]
     },
     "metadata": {
      "needs_background": "light"
     },
     "output_type": "display_data"
    },
    {
     "data": {
      "image/png": "[encoded data removed]",
      "text/plain": [
       "<Figure size 432x288 with 1 Axes>"
      ]
     },
     "metadata": {
      "needs_background": "light"
     },
     "output_type": "display_data"
    },
    {
     "data": {
      "image/png": "[encoded data removed]",
      "text/plain": [
       "<Figure size 432x288 with 1 Axes>"
      ]
     },
     "metadata": {
      "needs_background": "light"
     },
     "output_type": "display_data"
    }
   ],
   "source": [
    "imshow(sim_l[0].mean(axis=0))\n",
    "plt.show()\n",
    "imshow(sim_l2[0].mean(axis=0))\n",
    "plt.show()\n",
    "imshow(sim_l4[0].mean(axis=0))\n",
    "plt.show()\n"
   ]
  },
  {
   "cell_type": "code",
   "execution_count": 25,
   "metadata": {},
   "outputs": [
    {
     "name": "stdout",
     "output_type": "stream",
     "text": [
      "(3, 1, 32768, 3)\n"
     ]
    }
   ],
   "source": [
    "print(state_l.shape)"
   ]
  },
  {
   "cell_type": "code",
   "execution_count": null,
   "metadata": {},
   "outputs": [],
   "source": [
    "print()"
   ]
  },
  {
   "cell_type": "code",
   "execution_count": 43,
   "metadata": {
    "scrolled": true
   },
   "outputs": [
    {
     "name": "stdout",
     "output_type": "stream",
     "text": [
      "dbug max LR force is 0.067675255\n",
      "in short range\n",
      "substages [0.1  0.15 0.2 ]\n",
      "subcycling: step=1 of 2\n",
      "beginning - x_sr=0.100,p_sr=0.141,f_sr=0.100\n",
      "min x=15.365367889404297, max x=-0.25511959195137024\n",
      "Post mod (what SR sees) min x=15.99896240234375, max x=0.0003601836506277323\n",
      "global max eta for default timestep is 0.47, and for sr timestep is 0.23\n",
      "global max zeta for default timestep is 0.01 and for sr timestep is 0.00\n",
      "bin distr summary (for rough idea of load balance): min=0, max=7, mean=1.00, median=1.0, total/expected_total=1.0\n",
      "dbug max SR force is 13.518932\n",
      "end - x_sr=0.150,p_sr=0.150,f_sr=0.150\n",
      "dbug max LR force is 0.09702995\n",
      "in short range\n",
      "substages [0.2  0.25 0.3 ]\n",
      "subcycling: step=1 of 2\n",
      "beginning - x_sr=0.100,p_sr=0.245,f_sr=0.200\n",
      "min x=18.523530960083008, max x=-3.536818027496338\n",
      "Post mod (what SR sees) min x=15.99901008605957, max x=0.0012247972190380096\n",
      "global max eta for default timestep is 0.36, and for sr timestep is 0.18\n",
      "global max zeta for default timestep is 0.18 and for sr timestep is 0.09\n",
      "bin distr summary (for rough idea of load balance): min=0, max=6, mean=1.00, median=1.0, total/expected_total=1.0\n",
      "dbug max SR force is 25.437479\n",
      "end - x_sr=0.250,p_sr=0.250,f_sr=0.250\n",
      "dbug max LR force is 0.17329545\n",
      "in short range\n",
      "substages [0.3  0.35 0.4 ]\n",
      "subcycling: step=1 of 2\n",
      "beginning - x_sr=0.100,p_sr=0.346,f_sr=0.300\n",
      "min x=22.182979583740234, max x=-6.794889450073242\n",
      "Post mod (what SR sees) min x=15.999958038330078, max x=0.00018006563186645508\n",
      "global max eta for default timestep is 0.19, and for sr timestep is 0.09\n",
      "global max zeta for default timestep is 0.21 and for sr timestep is 0.11\n",
      "bin distr summary (for rough idea of load balance): min=0, max=6, mean=1.00, median=1.0, total/expected_total=1.0\n",
      "dbug max SR force is 25.888308\n",
      "end - x_sr=0.350,p_sr=0.350,f_sr=0.350\n",
      "dbug max LR force is 0.29290473\n",
      "in short range\n",
      "substages [0.4  0.45 0.5 ]\n",
      "subcycling: step=1 of 2\n",
      "beginning - x_sr=0.100,p_sr=0.447,f_sr=0.400\n",
      "min x=25.324012756347656, max x=-10.083576202392578\n",
      "Post mod (what SR sees) min x=15.999329566955566, max x=0.0006237030029296875\n",
      "global max eta for default timestep is 0.31, and for sr timestep is 0.16\n",
      "global max zeta for default timestep is 0.20 and for sr timestep is 0.10\n",
      "bin distr summary (for rough idea of load balance): min=0, max=7, mean=1.00, median=1.0, total/expected_total=1.0\n",
      "dbug max SR force is 27.933144\n",
      "end - x_sr=0.450,p_sr=0.450,f_sr=0.450\n",
      "dbug max LR force is 0.39181048\n",
      "in short range\n",
      "substages [0.5  0.55 0.6 ]\n",
      "subcycling: step=1 of 2\n",
      "beginning - x_sr=0.100,p_sr=0.548,f_sr=0.500\n",
      "min x=28.114192962646484, max x=-12.893181800842285\n",
      "Post mod (what SR sees) min x=15.99986743927002, max x=0.00186234712600708\n",
      "global max eta for default timestep is 0.15, and for sr timestep is 0.08\n",
      "global max zeta for default timestep is 0.24 and for sr timestep is 0.12\n",
      "bin distr summary (for rough idea of load balance): min=0, max=8, mean=1.00, median=1.0, total/expected_total=1.0\n",
      "dbug max SR force is 15.933029\n",
      "end - x_sr=0.550,p_sr=0.550,f_sr=0.550\n",
      "dbug max LR force is 0.4594661\n",
      "in short range\n",
      "substages [0.6  0.65 0.7 ]\n",
      "subcycling: step=1 of 2\n",
      "beginning - x_sr=0.100,p_sr=0.648,f_sr=0.600\n",
      "min x=30.552955627441406, max x=-15.868064880371094\n",
      "Post mod (what SR sees) min x=15.998076438903809, max x=0.0017574131488800049\n",
      "global max eta for default timestep is 0.24, and for sr timestep is 0.12\n",
      "global max zeta for default timestep is 0.25 and for sr timestep is 0.12\n",
      "bin distr summary (for rough idea of load balance): min=0, max=9, mean=1.00, median=1.0, total/expected_total=1.0\n",
      "dbug max SR force is 25.494862\n",
      "end - x_sr=0.650,p_sr=0.650,f_sr=0.650\n",
      "dbug max LR force is 0.5559092\n",
      "in short range\n",
      "substages [0.7  0.75 0.8 ]\n",
      "subcycling: step=1 of 2\n",
      "beginning - x_sr=0.100,p_sr=0.748,f_sr=0.700\n",
      "min x=33.99343490600586, max x=-19.521671295166016\n",
      "Post mod (what SR sees) min x=15.999865531921387, max x=0.0054225921630859375\n",
      "global max eta for default timestep is 0.29, and for sr timestep is 0.14\n",
      "global max zeta for default timestep is 0.23 and for sr timestep is 0.12\n",
      "bin distr summary (for rough idea of load balance): min=0, max=13, mean=1.00, median=1.0, total/expected_total=1.0\n",
      "dbug max SR force is 23.318472\n",
      "end - x_sr=0.750,p_sr=0.750,f_sr=0.750\n",
      "dbug max LR force is 0.6677089\n",
      "in short range\n",
      "substages [0.8  0.85 0.9 ]\n",
      "subcycling: step=1 of 2\n",
      "beginning - x_sr=0.100,p_sr=0.849,f_sr=0.800\n",
      "min x=37.250877380371094, max x=-23.215797424316406\n",
      "Post mod (what SR sees) min x=15.998688697814941, max x=0.002186506986618042\n",
      "global max eta for default timestep is 0.24, and for sr timestep is 0.12\n",
      "global max zeta for default timestep is 0.26 and for sr timestep is 0.13\n",
      "bin distr summary (for rough idea of load balance): min=0, max=12, mean=1.00, median=1.0, total/expected_total=1.0\n",
      "dbug max SR force is 26.607683\n",
      "end - x_sr=0.850,p_sr=0.850,f_sr=0.850\n",
      "dbug max LR force is 0.8622096\n",
      "in short range\n",
      "substages [0.9  0.95 1.  ]\n",
      "subcycling: step=1 of 2\n",
      "beginning - x_sr=0.100,p_sr=0.949,f_sr=0.900\n",
      "min x=41.42888259887695, max x=-26.830982208251953\n",
      "Post mod (what SR sees) min x=15.998345375061035, max x=0.0039017125964164734\n",
      "global max eta for default timestep is 0.29, and for sr timestep is 0.14\n",
      "global max zeta for default timestep is 0.27 and for sr timestep is 0.13\n",
      "bin distr summary (for rough idea of load balance): min=0, max=13, mean=1.00, median=1.0, total/expected_total=1.0\n",
      "dbug max SR force is 43.912415\n",
      "end - x_sr=0.950,p_sr=0.950,f_sr=0.950\n",
      "dbug max LR force is 1.0475497\n"
     ]
    }
   ],
   "source": [
    "#Try the short range\n",
    "# Evolve particles down to z=0\n",
    "final_state_s = flowpm.nbody(state, stages, 16,short_range=True,cm_scale=1,eps_s=.1,nsubcycles = 2,split=1)         \n",
    "\n",
    "# Retrieve final density field\n",
    "final_field_s = flowpm.cic_paint(tf.zeros_like(initial_conditions), final_state_s[0])\n",
    "\n",
    "with tf.Session() as sess:\n",
    "    state_s= sess.run(final_state_s)\n",
    "    sim_s= sess.run(final_field_s)\n"
   ]
  },
  {
   "cell_type": "code",
   "execution_count": 44,
   "metadata": {},
   "outputs": [
    {
     "data": {
      "image/png": "[encoded data removed]",
      "text/plain": [
       "<Figure size 432x288 with 1 Axes>"
      ]
     },
     "metadata": {
      "needs_background": "light"
     },
     "output_type": "display_data"
    }
   ],
   "source": [
    "#visually comparing one-step fields\n",
    "imshow(sim_s[0].sum(axis=0))\n",
    "plt.show()\n",
    "\n",
    "splitv = 1/2\n"
   ]
  },
  {
   "cell_type": "code",
   "execution_count": 40,
   "metadata": {},
   "outputs": [
    {
     "data": {
      "image/png": "[encoded data removed]",
      "text/plain": [
       "<Figure size 432x288 with 1 Axes>"
      ]
     },
     "metadata": {
      "needs_background": "light"
     },
     "output_type": "display_data"
    }
   ],
   "source": [
    "#visually comparing one-step fields\n",
    "imshow(sim_s[0,0])\n",
    "plt.show()\n",
    "\n",
    "#this is split =2\n"
   ]
  },
  {
   "cell_type": "code",
   "execution_count": 21,
   "metadata": {},
   "outputs": [
    {
     "data": {
      "image/png": "[encoded data removed]",
      "text/plain": [
       "<Figure size 432x288 with 1 Axes>"
      ]
     },
     "metadata": {
      "needs_background": "light"
     },
     "output_type": "display_data"
    },
    {
     "data": {
      "image/png": "[encoded data removed]",
      "text/plain": [
       "<Figure size 432x288 with 1 Axes>"
      ]
     },
     "metadata": {
      "needs_background": "light"
     },
     "output_type": "display_data"
    },
    {
     "ename": "ValueError",
     "evalue": "operands could not be broadcast together with shapes (16,16,16) (32,32,32) ",
     "output_type": "error",
     "traceback": [
      "\u001b[0;31m---------------------------------------------------------------------------\u001b[0m",
      "\u001b[0;31mValueError\u001b[0m                                Traceback (most recent call last)",
      "\u001b[0;32m<ipython-input-21-1f631b746eee>\u001b[0m in \u001b[0;36m<module>\u001b[0;34m\u001b[0m\n\u001b[1;32m      6\u001b[0m \u001b[0;34m\u001b[0m\u001b[0m\n\u001b[1;32m      7\u001b[0m \u001b[0;31m#L2 MSE\u001b[0m\u001b[0;34m\u001b[0m\u001b[0;34m\u001b[0m\u001b[0;34m\u001b[0m\u001b[0m\n\u001b[0;32m----> 8\u001b[0;31m \u001b[0ml2mse\u001b[0m \u001b[0;34m=\u001b[0m \u001b[0mnp\u001b[0m\u001b[0;34m.\u001b[0m\u001b[0msqrt\u001b[0m\u001b[0;34m(\u001b[0m\u001b[0;34m(\u001b[0m\u001b[0;34m(\u001b[0m\u001b[0msim_l\u001b[0m\u001b[0;34m[\u001b[0m\u001b[0;36m0\u001b[0m\u001b[0;34m]\u001b[0m\u001b[0;34m-\u001b[0m\u001b[0msim_s\u001b[0m\u001b[0;34m[\u001b[0m\u001b[0;36m0\u001b[0m\u001b[0;34m]\u001b[0m\u001b[0;34m)\u001b[0m\u001b[0;34m**\u001b[0m\u001b[0;36m2\u001b[0m\u001b[0;34m)\u001b[0m\u001b[0;34m)\u001b[0m\u001b[0;34m\u001b[0m\u001b[0;34m\u001b[0m\u001b[0m\n\u001b[0m\u001b[1;32m      9\u001b[0m \u001b[0mimshow\u001b[0m\u001b[0;34m(\u001b[0m\u001b[0ml2mse\u001b[0m\u001b[0;34m.\u001b[0m\u001b[0msum\u001b[0m\u001b[0;34m(\u001b[0m\u001b[0maxis\u001b[0m\u001b[0;34m=\u001b[0m\u001b[0;36m0\u001b[0m\u001b[0;34m)\u001b[0m\u001b[0;34m)\u001b[0m\u001b[0;34m\u001b[0m\u001b[0;34m\u001b[0m\u001b[0m\n\u001b[1;32m     10\u001b[0m \u001b[0mprint\u001b[0m\u001b[0;34m(\u001b[0m\u001b[0ml2mse\u001b[0m\u001b[0;34m.\u001b[0m\u001b[0mmax\u001b[0m\u001b[0;34m(\u001b[0m\u001b[0;34m)\u001b[0m\u001b[0;34m,\u001b[0m\u001b[0ml2mse\u001b[0m\u001b[0;34m.\u001b[0m\u001b[0mmin\u001b[0m\u001b[0;34m(\u001b[0m\u001b[0;34m)\u001b[0m\u001b[0;34m)\u001b[0m\u001b[0;34m\u001b[0m\u001b[0;34m\u001b[0m\u001b[0m\n",
      "\u001b[0;31mValueError\u001b[0m: operands could not be broadcast together with shapes (16,16,16) (32,32,32) "
     ]
    }
   ],
   "source": [
    "imshow(sim_l[0].sum(axis=0))\n",
    "plt.show()\n",
    "\n",
    "imshow(sim_l32[0].sum(axis=0))\n",
    "plt.show()\n",
    "\n",
    "#L2 MSE\n",
    "l2mse = np.sqrt(((sim_l[0]-sim_s[0])**2))\n",
    "imshow(l2mse.sum(axis=0))\n",
    "print(l2mse.max(),l2mse.min())\n",
    "plt.show()\n",
    "\n",
    "#pretty awful, looks like it just subtracting uniform background\n",
    "#no it is slightly better than that, it looks more like  subtracting a diffused version of the long-range\n",
    "#the diffusion is occuring because of the 2-body interaction time from high accelerations due to nearby particles\n",
    "#because timestep is too short..."
   ]
  },
  {
   "cell_type": "code",
   "execution_count": 6,
   "metadata": {},
   "outputs": [
    {
     "name": "stdout",
     "output_type": "stream",
     "text": [
      "CPU times: user 67 µs, sys: 0 ns, total: 67 µs\n",
      "Wall time: 70.8 µs\n"
     ]
    }
   ],
   "source": [
    "%%time\n",
    "LL = []\n",
    "for i in range(8**3):\n",
    "    LL.append(5)\n",
    "    "
   ]
  },
  {
   "cell_type": "code",
   "execution_count": 7,
   "metadata": {},
   "outputs": [],
   "source": [
    "def speed_check():\n",
    "    LL = []\n",
    "    for i in range(8**3):\n",
    "        LL.append(tf.constant([5]))\n",
    "        \n",
    "    return LL"
   ]
  },
  {
   "cell_type": "code",
   "execution_count": 8,
   "metadata": {},
   "outputs": [
    {
     "name": "stdout",
     "output_type": "stream",
     "text": [
      "CPU times: user 1.11 s, sys: 27 ms, total: 1.13 s\n",
      "Wall time: 1.14 s\n"
     ]
    }
   ],
   "source": [
    "%%time\n",
    "with tf.Session() as sess:\n",
    "    ll = sess.run(speed_check())\n",
    "    "
   ]
  },
  {
   "cell_type": "code",
   "execution_count": null,
   "metadata": {},
   "outputs": [],
   "source": [
    "#calling tensorflow in the loops is a big problem..."
   ]
  }
 ],
 "metadata": {
  "kernelspec": {
   "display_name": "Python 3",
   "language": "python",
   "name": "python3"
  },
  "language_info": {
   "codemirror_mode": {
    "name": "ipython",
    "version": 3
   },
   "file_extension": ".py",
   "mimetype": "text/x-python",
   "name": "python",
   "nbconvert_exporter": "python",
   "pygments_lexer": "ipython3",
   "version": "3.7.4"
  }
 },
 "nbformat": 4,
 "nbformat_minor": 4
}

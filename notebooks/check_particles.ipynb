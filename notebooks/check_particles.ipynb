{
 "cells": [
  {
   "cell_type": "code",
   "execution_count": 1,
   "metadata": {},
   "outputs": [],
   "source": [
    "import flowpm"
   ]
  },
  {
   "cell_type": "markdown",
   "metadata": {},
   "source": [
    "the mininal working example, let's check it still works with and without short range"
   ]
  },
  {
   "cell_type": "code",
   "execution_count": 2,
   "metadata": {},
   "outputs": [
    {
     "name": "stdout",
     "output_type": "stream",
     "text": [
      "Populating the interactive namespace from numpy and matplotlib\n"
     ]
    }
   ],
   "source": [
    "%pylab inline\n",
    "from flowpm import linear_field, lpt_init, nbody, cic_paint\n",
    "import tensorflow as tf\n",
    "from scipy.interpolate import InterpolatedUnivariateSpline as iuspline\n",
    "\n",
    "klin = np.loadtxt('../flowpm/data/Planck15_a1p00.txt').T[0]\n",
    "plin = np.loadtxt('../flowpm/data/Planck15_a1p00.txt').T[1]\n",
    "\n",
    "ipklin = iuspline(klin, plin)"
   ]
  },
  {
   "cell_type": "code",
   "execution_count": 29,
   "metadata": {},
   "outputs": [
    {
     "name": "stdout",
     "output_type": "stream",
     "text": [
      "dbug max LR force is 0.030417932\n",
      "dbug max LR force is 0.030417932\n",
      "dbug max LR force is 0.030417932\n",
      "dbug max LR force is 0.030417932\n",
      "dbug max LR force is 0.030417932\n",
      "dbug max LR force is 0.030417932\n",
      "dbug max LR force is 0.030417932\n",
      "dbug max LR force is 0.030417932\n",
      "dbug max LR force is 0.030417932\n",
      "dbug max LR force is 0.030417932\n",
      "dbug max LR force is 0.10166875\n",
      "dbug max LR force is 0.10166875\n",
      "dbug max LR force is 0.10166875\n",
      "dbug max LR force is 0.10166875\n",
      "dbug max LR force is 0.10166875\n",
      "dbug max LR force is 0.10166875\n",
      "dbug max LR force is 0.10166875\n",
      "dbug max LR force is 0.10166875\n",
      "dbug max LR force is 0.10166875\n",
      "dbug max LR force is 0.10166875\n"
     ]
    }
   ],
   "source": [
    "stages = np.linspace(0.1, 1.0, 10, endpoint=True)\n",
    "initial_conditions = flowpm.linear_field(16,#32,          # size of the cube\n",
    "                                         100,         # Physical size of the cube\n",
    "                                         ipklin,      # Initial powerspectrum\n",
    "                                         batch_size=1,seed=1)\n",
    "initial_conditions32 = flowpm.linear_field(32,          # size of the cube\n",
    "                                         100,         # Physical size of the cube\n",
    "                                         ipklin,      # Initial powerspectrum\n",
    "                                         batch_size=1,seed=1)\n",
    "\n",
    "# Sample particles\n",
    "state = flowpm.lpt_init(initial_conditions, a0=0.1)   \n",
    "state32 = flowpm.lpt_init(initial_conditions32, a0=0.1)   \n",
    "\n",
    "\n",
    "# # Evolve particles down to z=0\n",
    "final_state = flowpm.nbody(state, stages, 16,short_range=False)         \n",
    "final_state32 = flowpm.nbody(state32, stages, 32,short_range=False)         \n",
    "\n",
    "\n",
    "# # Retrieve final density field\n",
    "final_field = flowpm.cic_paint(tf.zeros_like(initial_conditions), final_state[0])\n",
    "final_field32 = flowpm.cic_paint(tf.zeros_like(initial_conditions32), final_state32[0])\n",
    "\n",
    "with tf.Session() as sess:\n",
    "    state_l = sess.run(final_state)\n",
    "    sim_l = sess.run(final_field)\n",
    "    state_l32 = sess.run(final_state32)\n",
    "    sim_l32 = sess.run(final_field32)\n"
   ]
  },
  {
   "cell_type": "code",
   "execution_count": 41,
   "metadata": {
    "scrolled": true
   },
   "outputs": [
    {
     "name": "stdout",
     "output_type": "stream",
     "text": [
      "dbug max LR force is 0.030417932\n",
      "min x=15.26157283782959, max x=-0.18037278950214386\n",
      "Post mod (what SR sees) min x=15.999876976013184, max x=0.0004794678243342787\n",
      "global max eta for default timestep is 0.11, and for sr timestep is 0.11\n",
      "global max zeta for default timestep is 0.00 and for sr timestep is 0.00\n",
      "bin distr summary (for rough idea of load balance): min=0, max=7, mean=1.00, median=1.0, total/expected_total=1.0\n",
      "dbug max SR force is 3.585674\n",
      "in short range\n",
      "substages [0.1  0.15 0.2 ]\n",
      "subcycling: step=0 of 2\n",
      "beginning - x_sr=0.100,p_sr=0.141,f_sr=0.100\n",
      "min x=15.762150764465332, max x=-2.5336923599243164\n",
      "Post mod (what SR sees) min x=15.99973201751709, max x=0.001485131331719458\n",
      "global max eta for default timestep is 10.22, and for sr timestep is 5.11\n",
      "global max zeta for default timestep is 0.09 and for sr timestep is 0.05\n",
      "bin distr summary (for rough idea of load balance): min=0, max=7, mean=1.00, median=1.0, total/expected_total=1.0\n",
      "dbug max SR force is 22.327366\n",
      "end - x_sr=0.150,p_sr=0.150,f_sr=0.150\n",
      "dbug max LR force is 0.041573204\n",
      "in short range\n",
      "substages [0.2  0.25 0.3 ]\n",
      "subcycling: step=0 of 2\n",
      "beginning - x_sr=0.100,p_sr=0.245,f_sr=0.200\n",
      "min x=19.567419052124023, max x=-6.86469030380249\n",
      "Post mod (what SR sees) min x=15.999639511108398, max x=0.00031299516558647156\n",
      "global max eta for default timestep is 0.10, and for sr timestep is 0.05\n",
      "global max zeta for default timestep is 0.74 and for sr timestep is 0.37\n",
      "bin distr summary (for rough idea of load balance): min=0, max=7, mean=1.00, median=1.0, total/expected_total=1.0\n",
      "dbug max SR force is 16.040228\n",
      "end - x_sr=0.250,p_sr=0.250,f_sr=0.250\n",
      "dbug max LR force is 0.061810926\n",
      "in short range\n",
      "substages [0.3  0.35 0.4 ]\n",
      "subcycling: step=0 of 2\n",
      "beginning - x_sr=0.100,p_sr=0.346,f_sr=0.300\n",
      "min x=25.467144012451172, max x=-11.025156021118164\n",
      "Post mod (what SR sees) min x=15.999703407287598, max x=0.0004900973290205002\n",
      "global max eta for default timestep is 0.10, and for sr timestep is 0.05\n",
      "global max zeta for default timestep is 0.48 and for sr timestep is 0.24\n",
      "bin distr summary (for rough idea of load balance): min=0, max=7, mean=1.00, median=1.0, total/expected_total=1.0\n",
      "dbug max SR force is 21.76506\n",
      "end - x_sr=0.350,p_sr=0.350,f_sr=0.350\n",
      "dbug max LR force is 0.08809798\n",
      "in short range\n",
      "substages [0.4  0.45 0.5 ]\n",
      "subcycling: step=0 of 2\n",
      "beginning - x_sr=0.100,p_sr=0.447,f_sr=0.400\n",
      "min x=31.54473114013672, max x=-15.811079025268555\n",
      "Post mod (what SR sees) min x=15.999308586120605, max x=0.0028438568115234375\n",
      "global max eta for default timestep is 0.10, and for sr timestep is 0.05\n",
      "global max zeta for default timestep is 0.61 and for sr timestep is 0.31\n",
      "bin distr summary (for rough idea of load balance): min=0, max=6, mean=1.00, median=1.0, total/expected_total=1.0\n",
      "dbug max SR force is 39.45804\n",
      "end - x_sr=0.450,p_sr=0.450,f_sr=0.450\n",
      "dbug max LR force is 0.107037224\n",
      "in short range\n",
      "substages [0.5  0.55 0.6 ]\n",
      "subcycling: step=0 of 2\n",
      "beginning - x_sr=0.100,p_sr=0.548,f_sr=0.500\n",
      "min x=37.25528335571289, max x=-21.007354736328125\n",
      "Post mod (what SR sees) min x=15.999828338623047, max x=0.0017337799072265625\n",
      "global max eta for default timestep is 0.10, and for sr timestep is 0.05\n",
      "global max zeta for default timestep is 0.45 and for sr timestep is 0.23\n",
      "bin distr summary (for rough idea of load balance): min=0, max=7, mean=1.00, median=1.0, total/expected_total=1.0\n",
      "dbug max SR force is 20.669338\n",
      "end - x_sr=0.550,p_sr=0.550,f_sr=0.550\n",
      "dbug max LR force is 0.12740783\n",
      "in short range\n",
      "substages [0.6  0.65 0.7 ]\n",
      "subcycling: step=0 of 2\n",
      "beginning - x_sr=0.100,p_sr=0.648,f_sr=0.600\n",
      "min x=42.61360549926758, max x=-25.920421600341797\n",
      "Post mod (what SR sees) min x=15.999765396118164, max x=0.0034070773981511593\n",
      "global max eta for default timestep is 0.10, and for sr timestep is 0.05\n",
      "global max zeta for default timestep is 0.90 and for sr timestep is 0.45\n",
      "bin distr summary (for rough idea of load balance): min=0, max=6, mean=1.00, median=1.0, total/expected_total=1.0\n",
      "dbug max SR force is 7.6186857\n",
      "end - x_sr=0.650,p_sr=0.650,f_sr=0.650\n",
      "dbug max LR force is 0.14943942\n",
      "in short range\n",
      "substages [0.7  0.75 0.8 ]\n",
      "subcycling: step=0 of 2\n",
      "beginning - x_sr=0.100,p_sr=0.748,f_sr=0.700\n",
      "min x=47.6744499206543, max x=-30.5808048248291\n",
      "Post mod (what SR sees) min x=15.998149871826172, max x=0.0001780986785888672\n",
      "global max eta for default timestep is 0.10, and for sr timestep is 0.05\n",
      "global max zeta for default timestep is 0.43 and for sr timestep is 0.21\n",
      "bin distr summary (for rough idea of load balance): min=0, max=7, mean=1.00, median=1.0, total/expected_total=1.0\n",
      "dbug max SR force is 20.362144\n",
      "end - x_sr=0.750,p_sr=0.750,f_sr=0.750\n",
      "dbug max LR force is 0.16906194\n",
      "in short range\n",
      "substages [0.8  0.85 0.9 ]\n",
      "subcycling: step=0 of 2\n",
      "beginning - x_sr=0.100,p_sr=0.849,f_sr=0.800\n",
      "min x=52.53470993041992, max x=-35.09048080444336\n",
      "Post mod (what SR sees) min x=15.998388290405273, max x=0.0005259513854980469\n",
      "global max eta for default timestep is 0.10, and for sr timestep is 0.05\n",
      "global max zeta for default timestep is 0.72 and for sr timestep is 0.36\n",
      "bin distr summary (for rough idea of load balance): min=0, max=7, mean=1.00, median=1.0, total/expected_total=1.0\n",
      "dbug max SR force is 19.185822\n",
      "end - x_sr=0.850,p_sr=0.850,f_sr=0.850\n",
      "dbug max LR force is 0.18879698\n",
      "in short range\n",
      "substages [0.9  0.95 1.  ]\n",
      "subcycling: step=0 of 2\n",
      "beginning - x_sr=0.100,p_sr=0.949,f_sr=0.900\n",
      "min x=57.190223693847656, max x=-40.2432861328125\n",
      "Post mod (what SR sees) min x=15.996171951293945, max x=8.541345596313477e-05\n",
      "global max eta for default timestep is 0.10, and for sr timestep is 0.05\n",
      "global max zeta for default timestep is 0.50 and for sr timestep is 0.25\n",
      "bin distr summary (for rough idea of load balance): min=0, max=7, mean=1.00, median=1.0, total/expected_total=1.0\n",
      "dbug max SR force is 11.878676\n",
      "end - x_sr=0.950,p_sr=0.950,f_sr=0.950\n",
      "dbug max LR force is 0.20756571\n"
     ]
    }
   ],
   "source": [
    "#Try the short range\n",
    "# Evolve particles down to z=0\n",
    "final_state_s = flowpm.nbody(state, stages, 16,short_range=True,cm_scale=1,eps_s=.1,nsubcycles = 2,split=2)         \n",
    "\n",
    "# Retrieve final density field\n",
    "final_field_s = flowpm.cic_paint(tf.zeros_like(initial_conditions), final_state_s[0])\n",
    "\n",
    "with tf.Session() as sess:\n",
    "    state_s= sess.run(final_state_s)\n",
    "    sim_s= sess.run(final_field_s)\n"
   ]
  },
  {
   "cell_type": "code",
   "execution_count": 42,
   "metadata": {},
   "outputs": [
    {
     "data": {
      "image/png": "[encoded data removed]",
      "text/plain": [
       "<Figure size 432x288 with 1 Axes>"
      ]
     },
     "metadata": {
      "needs_background": "light"
     },
     "output_type": "display_data"
    }
   ],
   "source": [
    "#visually comparing one-step fields\n",
    "imshow(sim_s[0].sum(axis=0))\n",
    "plt.show()\n",
    "\n",
    "\n"
   ]
  },
  {
   "cell_type": "code",
   "execution_count": 21,
   "metadata": {},
   "outputs": [
    {
     "data": {
      "image/png": "[encoded data removed]",
      "text/plain": [
       "<Figure size 432x288 with 1 Axes>"
      ]
     },
     "metadata": {
      "needs_background": "light"
     },
     "output_type": "display_data"
    },
    {
     "data": {
      "image/png": "[encoded data removed]",
      "text/plain": [
       "<Figure size 432x288 with 1 Axes>"
      ]
     },
     "metadata": {
      "needs_background": "light"
     },
     "output_type": "display_data"
    },
    {
     "ename": "ValueError",
     "evalue": "operands could not be broadcast together with shapes (16,16,16) (32,32,32) ",
     "output_type": "error",
     "traceback": [
      "\u001b[0;31m---------------------------------------------------------------------------\u001b[0m",
      "\u001b[0;31mValueError\u001b[0m                                Traceback (most recent call last)",
      "\u001b[0;32m<ipython-input-21-1f631b746eee>\u001b[0m in \u001b[0;36m<module>\u001b[0;34m\u001b[0m\n\u001b[1;32m      6\u001b[0m \u001b[0;34m\u001b[0m\u001b[0m\n\u001b[1;32m      7\u001b[0m \u001b[0;31m#L2 MSE\u001b[0m\u001b[0;34m\u001b[0m\u001b[0;34m\u001b[0m\u001b[0;34m\u001b[0m\u001b[0m\n\u001b[0;32m----> 8\u001b[0;31m \u001b[0ml2mse\u001b[0m \u001b[0;34m=\u001b[0m \u001b[0mnp\u001b[0m\u001b[0;34m.\u001b[0m\u001b[0msqrt\u001b[0m\u001b[0;34m(\u001b[0m\u001b[0;34m(\u001b[0m\u001b[0;34m(\u001b[0m\u001b[0msim_l\u001b[0m\u001b[0;34m[\u001b[0m\u001b[0;36m0\u001b[0m\u001b[0;34m]\u001b[0m\u001b[0;34m-\u001b[0m\u001b[0msim_s\u001b[0m\u001b[0;34m[\u001b[0m\u001b[0;36m0\u001b[0m\u001b[0;34m]\u001b[0m\u001b[0;34m)\u001b[0m\u001b[0;34m**\u001b[0m\u001b[0;36m2\u001b[0m\u001b[0;34m)\u001b[0m\u001b[0;34m)\u001b[0m\u001b[0;34m\u001b[0m\u001b[0;34m\u001b[0m\u001b[0m\n\u001b[0m\u001b[1;32m      9\u001b[0m \u001b[0mimshow\u001b[0m\u001b[0;34m(\u001b[0m\u001b[0ml2mse\u001b[0m\u001b[0;34m.\u001b[0m\u001b[0msum\u001b[0m\u001b[0;34m(\u001b[0m\u001b[0maxis\u001b[0m\u001b[0;34m=\u001b[0m\u001b[0;36m0\u001b[0m\u001b[0;34m)\u001b[0m\u001b[0;34m)\u001b[0m\u001b[0;34m\u001b[0m\u001b[0;34m\u001b[0m\u001b[0m\n\u001b[1;32m     10\u001b[0m \u001b[0mprint\u001b[0m\u001b[0;34m(\u001b[0m\u001b[0ml2mse\u001b[0m\u001b[0;34m.\u001b[0m\u001b[0mmax\u001b[0m\u001b[0;34m(\u001b[0m\u001b[0;34m)\u001b[0m\u001b[0;34m,\u001b[0m\u001b[0ml2mse\u001b[0m\u001b[0;34m.\u001b[0m\u001b[0mmin\u001b[0m\u001b[0;34m(\u001b[0m\u001b[0;34m)\u001b[0m\u001b[0;34m)\u001b[0m\u001b[0;34m\u001b[0m\u001b[0;34m\u001b[0m\u001b[0m\n",
      "\u001b[0;31mValueError\u001b[0m: operands could not be broadcast together with shapes (16,16,16) (32,32,32) "
     ]
    }
   ],
   "source": [
    "imshow(sim_l[0].sum(axis=0))\n",
    "plt.show()\n",
    "\n",
    "imshow(sim_l32[0].sum(axis=0))\n",
    "plt.show()\n",
    "\n",
    "#L2 MSE\n",
    "l2mse = np.sqrt(((sim_l[0]-sim_s[0])**2))\n",
    "imshow(l2mse.sum(axis=0))\n",
    "print(l2mse.max(),l2mse.min())\n",
    "plt.show()\n",
    "\n",
    "#pretty awful, looks like it just subtracting uniform background\n",
    "#no it is slightly better than that, it looks more like  subtracting a diffused version of the long-range\n",
    "#the diffusion is occuring because of the 2-body interaction time from high accelerations due to nearby particles\n",
    "#because timestep is too short..."
   ]
  },
  {
   "cell_type": "code",
   "execution_count": 6,
   "metadata": {},
   "outputs": [
    {
     "name": "stdout",
     "output_type": "stream",
     "text": [
      "CPU times: user 67 µs, sys: 0 ns, total: 67 µs\n",
      "Wall time: 70.8 µs\n"
     ]
    }
   ],
   "source": [
    "%%time\n",
    "LL = []\n",
    "for i in range(8**3):\n",
    "    LL.append(5)\n",
    "    "
   ]
  },
  {
   "cell_type": "code",
   "execution_count": 7,
   "metadata": {},
   "outputs": [],
   "source": [
    "def speed_check():\n",
    "    LL = []\n",
    "    for i in range(8**3):\n",
    "        LL.append(tf.constant([5]))\n",
    "        \n",
    "    return LL"
   ]
  },
  {
   "cell_type": "code",
   "execution_count": 8,
   "metadata": {},
   "outputs": [
    {
     "name": "stdout",
     "output_type": "stream",
     "text": [
      "CPU times: user 1.11 s, sys: 27 ms, total: 1.13 s\n",
      "Wall time: 1.14 s\n"
     ]
    }
   ],
   "source": [
    "%%time\n",
    "with tf.Session() as sess:\n",
    "    ll = sess.run(speed_check())\n",
    "    "
   ]
  },
  {
   "cell_type": "code",
   "execution_count": null,
   "metadata": {},
   "outputs": [],
   "source": [
    "#calling tensorflow in the loops is a big problem..."
   ]
  }
 ],
 "metadata": {
  "kernelspec": {
   "display_name": "Python 3",
   "language": "python",
   "name": "python3"
  },
  "language_info": {
   "codemirror_mode": {
    "name": "ipython",
    "version": 3
   },
   "file_extension": ".py",
   "mimetype": "text/x-python",
   "name": "python",
   "nbconvert_exporter": "python",
   "pygments_lexer": "ipython3",
   "version": "3.7.4"
  }
 },
 "nbformat": 4,
 "nbformat_minor": 4
}

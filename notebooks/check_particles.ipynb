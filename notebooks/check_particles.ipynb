{
 "cells": [
  {
   "cell_type": "code",
   "execution_count": 1,
   "metadata": {},
   "outputs": [],
   "source": [
    "import flowpm"
   ]
  },
  {
   "cell_type": "markdown",
   "metadata": {},
   "source": [
    "the mininal working example, let's check it still works with and without short range"
   ]
  },
  {
   "cell_type": "code",
   "execution_count": 2,
   "metadata": {},
   "outputs": [
    {
     "name": "stdout",
     "output_type": "stream",
     "text": [
      "Populating the interactive namespace from numpy and matplotlib\n"
     ]
    }
   ],
   "source": [
    "%pylab inline\n",
    "from flowpm import linear_field, lpt_init, nbody, cic_paint\n",
    "import tensorflow as tf\n",
    "from scipy.interpolate import InterpolatedUnivariateSpline as iuspline\n",
    "\n",
    "klin = np.loadtxt('../flowpm/data/Planck15_a1p00.txt').T[0]\n",
    "plin = np.loadtxt('../flowpm/data/Planck15_a1p00.txt').T[1]\n",
    "\n",
    "ipklin = iuspline(klin, plin)"
   ]
  },
  {
   "cell_type": "code",
   "execution_count": 6,
   "metadata": {},
   "outputs": [
    {
     "name": "stdout",
     "output_type": "stream",
     "text": [
      "dbug max LR force is 0.030417932\n",
      "dbug max LR force is 0.030417932\n",
      "dbug max LR force is 0.030417932\n",
      "dbug max LR force is 0.030417932\n",
      "dbug max LR force is 0.030417932\n",
      "dbug max LR force is 0.030417932\n",
      "dbug max LR force is 0.030417932\n",
      "dbug max LR force is 0.030417932\n",
      "dbug max LR force is 0.030417932\n",
      "dbug max LR force is 0.030417932\n"
     ]
    }
   ],
   "source": [
    "stages = np.linspace(0.1, 1.0, 10, endpoint=True)\n",
    "initial_conditions = flowpm.linear_field(16,#32,          # size of the cube\n",
    "                                         100,         # Physical size of the cube\n",
    "                                         ipklin,      # Initial powerspectrum\n",
    "                                         batch_size=1,seed=1)\n",
    "initial_conditions32 = flowpm.linear_field(32,          # size of the cube\n",
    "                                         100,         # Physical size of the cube\n",
    "                                         ipklin,      # Initial powerspectrum\n",
    "                                         batch_size=1,seed=1)\n",
    "\n",
    "# Sample particles\n",
    "state = flowpm.lpt_init(initial_conditions, a0=0.1)   \n",
    "state32 = flowpm.lpt_init(initial_conditions32, a0=0.1)   \n",
    "\n",
    "\n",
    "# # Evolve particles down to z=0\n",
    "final_state = flowpm.nbody(state, stages, 16,short_range=False)         \n",
    "# final_state32 = flowpm.nbody(state32, stages, 32,short_range=False)         \n",
    "\n",
    "\n",
    "# # Retrieve final density field\n",
    "final_field = flowpm.cic_paint(tf.zeros_like(initial_conditions), final_state[0])\n",
    "# final_field32 = flowpm.cic_paint(tf.zeros_like(initial_conditions32), final_state32[0])\n",
    "\n",
    "with tf.Session() as sess:\n",
    "    state_l = sess.run(final_state)\n",
    "    sim_l = sess.run(final_field)\n",
    "#     state_l32 = sess.run(final_state32)\n",
    "#     sim_l32 = sess.run(final_field32)\n"
   ]
  },
  {
   "cell_type": "code",
   "execution_count": 9,
   "metadata": {
    "scrolled": true
   },
   "outputs": [
    {
     "name": "stdout",
     "output_type": "stream",
     "text": [
      "dbug max LR force is 0.030417932\n",
      "min x=15.26157283782959, max x=-0.18037278950214386\n",
      "Post mod (what SR sees) min x=15.999876976013184, max x=0.0004794678243342787\n",
      "global max eta for default timestep is 0.11, and for sr timestep is 0.11\n",
      "global max zeta for default timestep is 0.00 and for sr timestep is 0.00\n",
      "bin distr summary (for rough idea of load balance): min=0, max=7, mean=1.00, median=1.0, total/expected_total=1.0\n",
      "dbug max SR force is 3.585674\n",
      "in short range\n",
      "substages [0.1   0.125 0.15  0.175 0.2  ]\n",
      "subcycling: step=0 of 4\n",
      "beginning - x_sr=0.100,p_sr=0.141,f_sr=0.100\n",
      "min x=15.316884994506836, max x=-0.7830502986907959\n",
      "Post mod (what SR sees) min x=15.999357223510742, max x=0.0006036409176886082\n",
      "global max eta for default timestep is 15.41, and for sr timestep is 3.85\n",
      "global max zeta for default timestep is 0.02 and for sr timestep is 0.01\n",
      "bin distr summary (for rough idea of load balance): min=0, max=6, mean=1.00, median=1.0, total/expected_total=1.0\n",
      "dbug max SR force is 5.981988\n",
      "end - x_sr=0.125,p_sr=0.125,f_sr=0.125\n",
      "subcycling: step=1 of 4\n",
      "beginning - x_sr=0.125,p_sr=0.125,f_sr=0.125\n",
      "min x=15.637358665466309, max x=-2.216251850128174\n",
      "Post mod (what SR sees) min x=15.999428749084473, max x=0.0011387707199901342\n",
      "global max eta for default timestep is 11.60, and for sr timestep is 2.90\n",
      "global max zeta for default timestep is 0.13 and for sr timestep is 0.03\n",
      "bin distr summary (for rough idea of load balance): min=0, max=6, mean=1.00, median=1.0, total/expected_total=1.0\n",
      "dbug max SR force is 19.860184\n",
      "end - x_sr=0.150,p_sr=0.150,f_sr=0.150\n",
      "subcycling: step=2 of 4\n",
      "beginning - x_sr=0.150,p_sr=0.150,f_sr=0.150\n",
      "min x=16.078584671020508, max x=-3.351496696472168\n",
      "Post mod (what SR sees) min x=15.999890327453613, max x=8.893478661775589e-05\n",
      "global max eta for default timestep is 12.39, and for sr timestep is 3.10\n",
      "global max zeta for default timestep is 0.25 and for sr timestep is 0.06\n",
      "bin distr summary (for rough idea of load balance): min=0, max=6, mean=1.00, median=1.0, total/expected_total=1.0\n",
      "dbug max SR force is 13.896581\n",
      "end - x_sr=0.175,p_sr=0.175,f_sr=0.175\n",
      "dbug max LR force is 0.046206776\n",
      "in short range\n",
      "substages [0.2   0.225 0.25  0.275 0.3  ]\n",
      "subcycling: step=0 of 4\n",
      "beginning - x_sr=0.100,p_sr=0.245,f_sr=0.200\n",
      "min x=17.694931030273438, max x=-7.160676002502441\n",
      "Post mod (what SR sees) min x=15.996191024780273, max x=0.00317227840423584\n",
      "global max eta for default timestep is 0.10, and for sr timestep is 0.03\n",
      "global max zeta for default timestep is 0.25 and for sr timestep is 0.06\n",
      "bin distr summary (for rough idea of load balance): min=0, max=6, mean=1.00, median=1.0, total/expected_total=1.0\n",
      "dbug max SR force is 23.918911\n",
      "end - x_sr=0.225,p_sr=0.225,f_sr=0.225\n",
      "subcycling: step=1 of 4\n",
      "beginning - x_sr=0.225,p_sr=0.225,f_sr=0.225\n",
      "min x=17.965185165405273, max x=-7.797119140625\n",
      "Post mod (what SR sees) min x=15.999366760253906, max x=0.004948228597640991\n",
      "global max eta for default timestep is 41.49, and for sr timestep is 10.37\n",
      "global max zeta for default timestep is 0.65 and for sr timestep is 0.16\n",
      "bin distr summary (for rough idea of load balance): min=0, max=6, mean=1.00, median=1.0, total/expected_total=1.0\n",
      "dbug max SR force is 16.9074\n",
      "end - x_sr=0.250,p_sr=0.250,f_sr=0.250\n",
      "subcycling: step=2 of 4\n",
      "beginning - x_sr=0.250,p_sr=0.250,f_sr=0.250\n",
      "min x=18.196496963500977, max x=-8.568181037902832\n",
      "Post mod (what SR sees) min x=15.998468399047852, max x=0.0006656646728515625\n",
      "global max eta for default timestep is 29.43, and for sr timestep is 7.36\n",
      "global max zeta for default timestep is 0.96 and for sr timestep is 0.24\n",
      "bin distr summary (for rough idea of load balance): min=0, max=7, mean=1.00, median=1.0, total/expected_total=1.0\n",
      "dbug max SR force is 25.606415\n",
      "end - x_sr=0.275,p_sr=0.275,f_sr=0.275\n",
      "dbug max LR force is 0.074523285\n",
      "in short range\n",
      "substages [0.3   0.325 0.35  0.375 0.4  ]\n",
      "subcycling: step=0 of 4\n",
      "beginning - x_sr=0.100,p_sr=0.346,f_sr=0.300\n",
      "min x=20.09832763671875, max x=-13.984560012817383\n",
      "Post mod (what SR sees) min x=15.998912811279297, max x=0.0007584095001220703\n",
      "global max eta for default timestep is 0.10, and for sr timestep is 0.03\n",
      "global max zeta for default timestep is 0.65 and for sr timestep is 0.16\n",
      "bin distr summary (for rough idea of load balance): min=0, max=7, mean=1.00, median=1.0, total/expected_total=1.0\n",
      "dbug max SR force is 26.281607\n",
      "end - x_sr=0.325,p_sr=0.325,f_sr=0.325\n",
      "subcycling: step=1 of 4\n",
      "beginning - x_sr=0.325,p_sr=0.325,f_sr=0.325\n",
      "min x=20.534067153930664, max x=-14.501038551330566\n",
      "Post mod (what SR sees) min x=15.999463081359863, max x=0.0017871856689453125\n",
      "global max eta for default timestep is 78.59, and for sr timestep is 19.65\n",
      "global max zeta for default timestep is 1.33 and for sr timestep is 0.33\n",
      "bin distr summary (for rough idea of load balance): min=0, max=8, mean=1.00, median=1.0, total/expected_total=1.0\n",
      "dbug max SR force is 63.62133\n",
      "end - x_sr=0.350,p_sr=0.350,f_sr=0.350\n",
      "subcycling: step=2 of 4\n",
      "beginning - x_sr=0.350,p_sr=0.350,f_sr=0.350\n",
      "min x=20.921550750732422, max x=-14.960563659667969\n",
      "Post mod (what SR sees) min x=15.99878215789795, max x=0.0001489529386162758\n",
      "global max eta for default timestep is 49.56, and for sr timestep is 12.39\n",
      "global max zeta for default timestep is 1.17 and for sr timestep is 0.29\n",
      "bin distr summary (for rough idea of load balance): min=0, max=8, mean=1.00, median=1.0, total/expected_total=1.0\n",
      "dbug max SR force is 399.2382\n",
      "end - x_sr=0.375,p_sr=0.375,f_sr=0.375\n",
      "dbug max LR force is 0.10680233\n",
      "in short range\n",
      "substages [0.4   0.425 0.45  0.475 0.5  ]\n",
      "subcycling: step=0 of 4\n",
      "beginning - x_sr=0.100,p_sr=0.447,f_sr=0.400\n",
      "min x=41.882041931152344, max x=-37.15181350708008\n",
      "Post mod (what SR sees) min x=15.995384216308594, max x=0.0006981492042541504\n",
      "global max eta for default timestep is 0.10, and for sr timestep is 0.03\n",
      "global max zeta for default timestep is 1.16 and for sr timestep is 0.29\n",
      "bin distr summary (for rough idea of load balance): min=0, max=6, mean=1.00, median=1.0, total/expected_total=1.0\n",
      "dbug max SR force is 31.232513\n",
      "end - x_sr=0.425,p_sr=0.425,f_sr=0.425\n",
      "subcycling: step=1 of 4\n",
      "beginning - x_sr=0.425,p_sr=0.425,f_sr=0.425\n",
      "min x=43.816226959228516, max x=-39.33346939086914\n",
      "Post mod (what SR sees) min x=15.998015403747559, max x=0.000430036336183548\n",
      "global max eta for default timestep is 74.27, and for sr timestep is 18.57\n",
      "global max zeta for default timestep is 23.06 and for sr timestep is 5.77\n",
      "bin distr summary (for rough idea of load balance): min=0, max=6, mean=1.00, median=1.0, total/expected_total=1.0\n",
      "dbug max SR force is 9.183636\n",
      "end - x_sr=0.450,p_sr=0.450,f_sr=0.450\n",
      "subcycling: step=2 of 4\n",
      "beginning - x_sr=0.450,p_sr=0.450,f_sr=0.450\n",
      "min x=45.57068634033203, max x=-41.31231689453125\n",
      "Post mod (what SR sees) min x=15.999720573425293, max x=0.0007653720676898956\n",
      "global max eta for default timestep is 13.91, and for sr timestep is 3.48\n",
      "global max zeta for default timestep is 23.06 and for sr timestep is 5.77\n",
      "bin distr summary (for rough idea of load balance): min=0, max=6, mean=1.00, median=1.0, total/expected_total=1.0\n",
      "dbug max SR force is 40.523815\n",
      "end - x_sr=0.475,p_sr=0.475,f_sr=0.475\n",
      "dbug max LR force is 0.11170733\n",
      "in short range\n",
      "substages [0.5   0.525 0.55  0.575 0.6  ]\n",
      "subcycling: step=0 of 4\n",
      "beginning - x_sr=0.100,p_sr=0.548,f_sr=0.500\n",
      "min x=73.72765350341797, max x=-73.11528778076172\n",
      "Post mod (what SR sees) min x=15.998428344726562, max x=0.0007375180721282959\n",
      "global max eta for default timestep is 0.10, and for sr timestep is 0.03\n",
      "global max zeta for default timestep is 23.17 and for sr timestep is 5.79\n",
      "bin distr summary (for rough idea of load balance): min=0, max=7, mean=1.00, median=1.0, total/expected_total=1.0\n",
      "dbug max SR force is 17.12161\n",
      "end - x_sr=0.525,p_sr=0.525,f_sr=0.525\n",
      "subcycling: step=1 of 4\n",
      "beginning - x_sr=0.525,p_sr=0.525,f_sr=0.525\n",
      "min x=75.05958557128906, max x=-74.6192855834961\n",
      "Post mod (what SR sees) min x=15.997989654541016, max x=5.956739187240601e-06\n",
      "global max eta for default timestep is 13.51, and for sr timestep is 3.38\n",
      "global max zeta for default timestep is 23.15 and for sr timestep is 5.79\n",
      "bin distr summary (for rough idea of load balance): min=0, max=7, mean=1.00, median=1.0, total/expected_total=1.0\n",
      "dbug max SR force is 6.694425\n",
      "end - x_sr=0.550,p_sr=0.550,f_sr=0.550\n",
      "subcycling: step=2 of 4\n",
      "beginning - x_sr=0.550,p_sr=0.550,f_sr=0.550\n"
     ]
    },
    {
     "name": "stdout",
     "output_type": "stream",
     "text": [
      "min x=76.28086853027344, max x=-75.99833679199219\n",
      "Post mod (what SR sees) min x=15.99995231628418, max x=0.0006379187107086182\n",
      "global max eta for default timestep is 37.83, and for sr timestep is 9.46\n",
      "global max zeta for default timestep is 1.37 and for sr timestep is 0.34\n",
      "bin distr summary (for rough idea of load balance): min=0, max=8, mean=1.00, median=1.0, total/expected_total=1.0\n",
      "dbug max SR force is 7.069971\n",
      "end - x_sr=0.575,p_sr=0.575,f_sr=0.575\n",
      "dbug max LR force is 0.12252989\n",
      "in short range\n",
      "substages [0.6   0.625 0.65  0.675 0.7  ]\n",
      "subcycling: step=0 of 4\n",
      "beginning - x_sr=0.100,p_sr=0.648,f_sr=0.600\n",
      "min x=102.94896697998047, max x=-106.13504028320312\n",
      "Post mod (what SR sees) min x=15.999346733093262, max x=0.0022118985652923584\n",
      "global max eta for default timestep is 0.10, and for sr timestep is 0.03\n",
      "global max zeta for default timestep is 23.23 and for sr timestep is 5.81\n",
      "bin distr summary (for rough idea of load balance): min=0, max=8, mean=1.00, median=1.0, total/expected_total=1.0\n",
      "dbug max SR force is 8.857626\n",
      "end - x_sr=0.625,p_sr=0.625,f_sr=0.625\n",
      "subcycling: step=1 of 4\n",
      "beginning - x_sr=0.625,p_sr=0.625,f_sr=0.625\n",
      "min x=103.90028381347656, max x=-107.21018981933594\n",
      "Post mod (what SR sees) min x=15.994134902954102, max x=0.00037713348865509033\n",
      "global max eta for default timestep is 16.48, and for sr timestep is 4.12\n",
      "global max zeta for default timestep is 23.23 and for sr timestep is 5.81\n",
      "bin distr summary (for rough idea of load balance): min=0, max=9, mean=1.00, median=1.0, total/expected_total=1.0\n",
      "dbug max SR force is 9.090286\n",
      "end - x_sr=0.650,p_sr=0.650,f_sr=0.650\n",
      "subcycling: step=2 of 4\n",
      "beginning - x_sr=0.650,p_sr=0.650,f_sr=0.650\n",
      "min x=104.77841186523438, max x=-108.20291137695312\n",
      "Post mod (what SR sees) min x=15.999570846557617, max x=0.0001177400117740035\n",
      "global max eta for default timestep is 22.98, and for sr timestep is 5.74\n",
      "global max zeta for default timestep is 18.30 and for sr timestep is 4.57\n",
      "bin distr summary (for rough idea of load balance): min=0, max=8, mean=1.00, median=1.0, total/expected_total=1.0\n",
      "dbug max SR force is 9.506574\n",
      "end - x_sr=0.675,p_sr=0.675,f_sr=0.675\n",
      "dbug max LR force is 0.12813742\n",
      "in short range\n",
      "substages [0.7   0.725 0.75  0.775 0.8  ]\n",
      "subcycling: step=0 of 4\n",
      "beginning - x_sr=0.100,p_sr=0.748,f_sr=0.700\n",
      "min x=130.18896484375, max x=-136.92916870117188\n",
      "Post mod (what SR sees) min x=15.999934196472168, max x=0.0023469626903533936\n",
      "global max eta for default timestep is 0.10, and for sr timestep is 0.03\n",
      "global max zeta for default timestep is 23.28 and for sr timestep is 5.82\n",
      "bin distr summary (for rough idea of load balance): min=0, max=7, mean=1.00, median=1.0, total/expected_total=1.0\n",
      "dbug max SR force is 7.615725\n",
      "end - x_sr=0.725,p_sr=0.725,f_sr=0.725\n",
      "subcycling: step=1 of 4\n",
      "beginning - x_sr=0.725,p_sr=0.725,f_sr=0.725\n",
      "min x=130.88523864746094, max x=-137.7172393798828\n",
      "Post mod (what SR sees) min x=15.99819278717041, max x=6.367266178131104e-05\n",
      "global max eta for default timestep is 10.96, and for sr timestep is 2.74\n",
      "global max zeta for default timestep is 1.36 and for sr timestep is 0.34\n",
      "bin distr summary (for rough idea of load balance): min=0, max=7, mean=1.00, median=1.0, total/expected_total=1.0\n",
      "dbug max SR force is 62.154804\n",
      "end - x_sr=0.750,p_sr=0.750,f_sr=0.750\n",
      "subcycling: step=2 of 4\n",
      "beginning - x_sr=0.750,p_sr=0.750,f_sr=0.750\n",
      "min x=131.5314483642578, max x=-138.4490203857422\n",
      "Post mod (what SR sees) min x=15.99970817565918, max x=0.0017832498997449875\n",
      "global max eta for default timestep is 286.36, and for sr timestep is 71.59\n",
      "global max zeta for default timestep is 1.37 and for sr timestep is 0.34\n",
      "bin distr summary (for rough idea of load balance): min=0, max=7, mean=1.00, median=1.0, total/expected_total=1.0\n",
      "dbug max SR force is 31.586401\n",
      "end - x_sr=0.775,p_sr=0.775,f_sr=0.775\n",
      "dbug max LR force is 0.13763148\n",
      "in short range\n",
      "substages [0.8   0.825 0.85  0.875 0.9  ]\n",
      "subcycling: step=0 of 4\n",
      "beginning - x_sr=0.100,p_sr=0.849,f_sr=0.800\n",
      "min x=155.85801696777344, max x=-165.998046875\n",
      "Post mod (what SR sees) min x=15.999055862426758, max x=0.0006766915321350098\n",
      "global max eta for default timestep is 0.10, and for sr timestep is 0.03\n",
      "global max zeta for default timestep is 1.38 and for sr timestep is 0.35\n",
      "bin distr summary (for rough idea of load balance): min=0, max=7, mean=1.00, median=1.0, total/expected_total=1.0\n",
      "dbug max SR force is 51.428696\n",
      "end - x_sr=0.825,p_sr=0.825,f_sr=0.825\n",
      "subcycling: step=1 of 4\n",
      "beginning - x_sr=0.825,p_sr=0.825,f_sr=0.825\n",
      "min x=156.3785400390625, max x=-166.58792114257812\n",
      "Post mod (what SR sees) min x=15.997611045837402, max x=0.0026592742651700974\n",
      "global max eta for default timestep is 33.27, and for sr timestep is 8.32\n",
      "global max zeta for default timestep is 23.36 and for sr timestep is 5.84\n",
      "bin distr summary (for rough idea of load balance): min=0, max=7, mean=1.00, median=1.0, total/expected_total=1.0\n",
      "dbug max SR force is 25.396845\n",
      "end - x_sr=0.850,p_sr=0.850,f_sr=0.850\n",
      "subcycling: step=2 of 4\n",
      "beginning - x_sr=0.850,p_sr=0.850,f_sr=0.850\n",
      "min x=156.8639678955078, max x=-167.1382598876953\n",
      "Post mod (what SR sees) min x=15.998756408691406, max x=0.003246072679758072\n",
      "global max eta for default timestep is 19.70, and for sr timestep is 4.93\n",
      "global max zeta for default timestep is 23.37 and for sr timestep is 5.84\n",
      "bin distr summary (for rough idea of load balance): min=0, max=7, mean=1.00, median=1.0, total/expected_total=1.0\n",
      "dbug max SR force is 25.12982\n",
      "end - x_sr=0.875,p_sr=0.875,f_sr=0.875\n",
      "dbug max LR force is 0.14673945\n",
      "in short range\n",
      "substages [0.9   0.925 0.95  0.975 1.   ]\n",
      "subcycling: step=0 of 4\n",
      "beginning - x_sr=0.100,p_sr=0.949,f_sr=0.900\n",
      "min x=180.29458618164062, max x=-193.71287536621094\n",
      "Post mod (what SR sees) min x=15.999702453613281, max x=0.003855407238006592\n",
      "global max eta for default timestep is 0.10, and for sr timestep is 0.03\n",
      "global max zeta for default timestep is 23.35 and for sr timestep is 5.84\n",
      "bin distr summary (for rough idea of load balance): min=0, max=6, mean=1.00, median=1.0, total/expected_total=1.0\n",
      "dbug max SR force is 13.416294\n",
      "end - x_sr=0.925,p_sr=0.925,f_sr=0.925\n",
      "subcycling: step=1 of 4\n",
      "beginning - x_sr=0.925,p_sr=0.925,f_sr=0.925\n",
      "min x=180.69078063964844, max x=-194.16253662109375\n",
      "Post mod (what SR sees) min x=15.997645378112793, max x=0.000621795654296875\n",
      "global max eta for default timestep is 13.43, and for sr timestep is 3.36\n",
      "global max zeta for default timestep is 23.37 and for sr timestep is 5.84\n",
      "bin distr summary (for rough idea of load balance): min=0, max=6, mean=1.00, median=1.0, total/expected_total=1.0\n",
      "dbug max SR force is 14.433352\n",
      "end - x_sr=0.950,p_sr=0.950,f_sr=0.950\n",
      "subcycling: step=2 of 4\n",
      "beginning - x_sr=0.950,p_sr=0.950,f_sr=0.950\n",
      "min x=181.06190490722656, max x=-194.58389282226562\n",
      "Post mod (what SR sees) min x=15.99764347076416, max x=0.001986691728234291\n",
      "global max eta for default timestep is 13.24, and for sr timestep is 3.31\n",
      "global max zeta for default timestep is 23.39 and for sr timestep is 5.85\n",
      "bin distr summary (for rough idea of load balance): min=0, max=6, mean=1.00, median=1.0, total/expected_total=1.0\n",
      "dbug max SR force is 16.089018\n",
      "end - x_sr=0.975,p_sr=0.975,f_sr=0.975\n",
      "dbug max LR force is 0.15720035\n"
     ]
    }
   ],
   "source": [
    "#Try the short range\n",
    "# Evolve particles down to z=0\n",
    "final_state_s = flowpm.nbody(state, stages, 16,short_range=True,cm_scale=1,eps_s=.1,nsubcycles = 4,split=2)         \n",
    "\n",
    "# Retrieve final density field\n",
    "final_field_s = flowpm.cic_paint(tf.zeros_like(initial_conditions), final_state_s[0])\n",
    "\n",
    "with tf.Session() as sess:\n",
    "    state_s= sess.run(final_state_s)\n",
    "    sim_s= sess.run(final_field_s)\n"
   ]
  },
  {
   "cell_type": "code",
   "execution_count": 10,
   "metadata": {},
   "outputs": [
    {
     "data": {
      "image/png": "[encoded data removed]",
      "text/plain": [
       "<Figure size 432x288 with 1 Axes>"
      ]
     },
     "metadata": {
      "needs_background": "light"
     },
     "output_type": "display_data"
    }
   ],
   "source": [
    "#visually comparing one-step fields\n",
    "imshow(sim_s[0].sum(axis=0))\n",
    "plt.show()\n",
    "\n",
    "\n"
   ]
  },
  {
   "cell_type": "code",
   "execution_count": 8,
   "metadata": {},
   "outputs": [
    {
     "data": {
      "image/png": "[encoded data removed]",
      "text/plain": [
       "<Figure size 432x288 with 1 Axes>"
      ]
     },
     "metadata": {
      "needs_background": "light"
     },
     "output_type": "display_data"
    },
    {
     "name": "stdout",
     "output_type": "stream",
     "text": [
      "5.180645 0.00038576126\n"
     ]
    },
    {
     "data": {
      "image/png": "[encoded data removed]",
      "text/plain": [
       "<Figure size 432x288 with 1 Axes>"
      ]
     },
     "metadata": {
      "needs_background": "light"
     },
     "output_type": "display_data"
    }
   ],
   "source": [
    "imshow(sim_l[0].sum(axis=0))\n",
    "plt.show()\n",
    "\n",
    "# imshow(sim_l32[0].sum(axis=0))\n",
    "# plt.show()\n",
    "\n",
    "#L2 MSE\n",
    "l2mse = np.sqrt(((sim_l[0]-sim_s[0])**2))\n",
    "imshow(l2mse.sum(axis=0))\n",
    "print(l2mse.max(),l2mse.min())\n",
    "plt.show()\n",
    "\n",
    "#pretty awful, looks like it just subtracting uniform background\n",
    "#no it is slightly better than that, it looks more like  subtracting a diffused version of the long-range\n",
    "#the diffusion is occuring because of the 2-body interaction time from high accelerations due to nearby particles\n",
    "#because timestep is too short..."
   ]
  },
  {
   "cell_type": "code",
   "execution_count": 6,
   "metadata": {},
   "outputs": [
    {
     "name": "stdout",
     "output_type": "stream",
     "text": [
      "CPU times: user 67 µs, sys: 0 ns, total: 67 µs\n",
      "Wall time: 70.8 µs\n"
     ]
    }
   ],
   "source": [
    "%%time\n",
    "LL = []\n",
    "for i in range(8**3):\n",
    "    LL.append(5)\n",
    "    "
   ]
  },
  {
   "cell_type": "code",
   "execution_count": 7,
   "metadata": {},
   "outputs": [],
   "source": [
    "def speed_check():\n",
    "    LL = []\n",
    "    for i in range(8**3):\n",
    "        LL.append(tf.constant([5]))\n",
    "        \n",
    "    return LL"
   ]
  },
  {
   "cell_type": "code",
   "execution_count": 8,
   "metadata": {},
   "outputs": [
    {
     "name": "stdout",
     "output_type": "stream",
     "text": [
      "CPU times: user 1.11 s, sys: 27 ms, total: 1.13 s\n",
      "Wall time: 1.14 s\n"
     ]
    }
   ],
   "source": [
    "%%time\n",
    "with tf.Session() as sess:\n",
    "    ll = sess.run(speed_check())\n",
    "    "
   ]
  },
  {
   "cell_type": "code",
   "execution_count": null,
   "metadata": {},
   "outputs": [],
   "source": [
    "#calling tensorflow in the loops is a big problem..."
   ]
  }
 ],
 "metadata": {
  "kernelspec": {
   "display_name": "Python 3",
   "language": "python",
   "name": "python3"
  },
  "language_info": {
   "codemirror_mode": {
    "name": "ipython",
    "version": 3
   },
   "file_extension": ".py",
   "mimetype": "text/x-python",
   "name": "python",
   "nbconvert_exporter": "python",
   "pygments_lexer": "ipython3",
   "version": "3.7.4"
  }
 },
 "nbformat": 4,
 "nbformat_minor": 4
}
